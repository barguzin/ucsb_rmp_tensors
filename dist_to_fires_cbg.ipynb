{
 "cells": [
  {
   "cell_type": "code",
   "execution_count": 1,
   "metadata": {},
   "outputs": [],
   "source": [
    "import pandas as pd\n",
    "import numpy as np\n",
    "import geopandas as gpd"
   ]
  },
  {
   "cell_type": "markdown",
   "metadata": {},
   "source": [
    "# Workflow \n",
    "\n",
    "1. read in buffer_30000m_cbg\n",
    "2. read in fires_LA_2020\n",
    "3. Calculate distance to nearest fire for each CBG\n",
    "4. read in POIs\n",
    "5. Calculate number of POIs in every CBG\n",
    "6. read CBG Census data \n",
    "7. Add population data to CBG "
   ]
  },
  {
   "cell_type": "code",
   "execution_count": 5,
   "metadata": {},
   "outputs": [
    {
     "name": "stdout",
     "output_type": "stream",
     "text": [
      "(7822, 13)\n",
      "epsg:4269\n"
     ]
    }
   ],
   "source": [
    "# read CBG 30000m \n",
    "#ca_cbg = gpd.read_file('C:/Users/noibar/Downloads/tl_2019_06_bg/tl_2019_06_bg.shp')\n",
    "ca_cbg = gpd.read_file('C:/Users/noibar/YandexDisk/ucsb/ucsb_summer2022/RMP/la_fire_cbg_30000m.geojson')\n",
    "print(ca_cbg.shape)\n",
    "print(ca_cbg.crs)"
   ]
  },
  {
   "cell_type": "code",
   "execution_count": 6,
   "metadata": {},
   "outputs": [
    {
     "name": "stdout",
     "output_type": "stream",
     "text": [
      "(16, 19)\n",
      "epsg:3857\n"
     ]
    }
   ],
   "source": [
    "# read fires\n",
    "fires = gpd.read_file('C:/Users/noibar/YandexDisk/ucsb/ucsb_summer2022/RMP/la_fires_2020_3857.geojson') \n",
    "print(fires.shape)\n",
    "print(fires.crs)"
   ]
  },
  {
   "cell_type": "code",
   "execution_count": 7,
   "metadata": {},
   "outputs": [
    {
     "name": "stdout",
     "output_type": "stream",
     "text": [
      "epsg: 3857\n"
     ]
    }
   ],
   "source": [
    "# reproject cbg\n",
    "ca_cbg = ca_cbg.to_crs('epsg: 3857')\n",
    "print(ca_cbg.crs)"
   ]
  },
  {
   "cell_type": "code",
   "execution_count": 8,
   "metadata": {},
   "outputs": [],
   "source": [
    "ca_cbg['dist_to_fire_m'] = ca_cbg.geometry.apply(lambda x: fires.distance(x).min()) "
   ]
  },
  {
   "cell_type": "code",
   "execution_count": 9,
   "metadata": {},
   "outputs": [
    {
     "data": {
      "text/html": [
       "<div>\n",
       "<style scoped>\n",
       "    .dataframe tbody tr th:only-of-type {\n",
       "        vertical-align: middle;\n",
       "    }\n",
       "\n",
       "    .dataframe tbody tr th {\n",
       "        vertical-align: top;\n",
       "    }\n",
       "\n",
       "    .dataframe thead th {\n",
       "        text-align: right;\n",
       "    }\n",
       "</style>\n",
       "<table border=\"1\" class=\"dataframe\">\n",
       "  <thead>\n",
       "    <tr style=\"text-align: right;\">\n",
       "      <th></th>\n",
       "      <th>STATEFP</th>\n",
       "      <th>COUNTYFP</th>\n",
       "      <th>TRACTCE</th>\n",
       "      <th>BLKGRPCE</th>\n",
       "      <th>GEOID</th>\n",
       "      <th>NAMELSAD</th>\n",
       "      <th>MTFCC</th>\n",
       "      <th>FUNCSTAT</th>\n",
       "      <th>ALAND</th>\n",
       "      <th>AWATER</th>\n",
       "      <th>INTPTLAT</th>\n",
       "      <th>INTPTLON</th>\n",
       "      <th>geometry</th>\n",
       "      <th>dist_to_fire_m</th>\n",
       "    </tr>\n",
       "  </thead>\n",
       "  <tbody>\n",
       "    <tr>\n",
       "      <th>0</th>\n",
       "      <td>06</td>\n",
       "      <td>111</td>\n",
       "      <td>007506</td>\n",
       "      <td>5</td>\n",
       "      <td>061110075065</td>\n",
       "      <td>Block Group 5</td>\n",
       "      <td>G5030</td>\n",
       "      <td>S</td>\n",
       "      <td>469020</td>\n",
       "      <td>15988</td>\n",
       "      <td>+34.2526098</td>\n",
       "      <td>-118.7395930</td>\n",
       "      <td>MULTIPOLYGON (((-13218628.981 4063392.660, -13...</td>\n",
       "      <td>24424.649639</td>\n",
       "    </tr>\n",
       "    <tr>\n",
       "      <th>1</th>\n",
       "      <td>06</td>\n",
       "      <td>065</td>\n",
       "      <td>030104</td>\n",
       "      <td>2</td>\n",
       "      <td>060650301042</td>\n",
       "      <td>Block Group 2</td>\n",
       "      <td>G5030</td>\n",
       "      <td>S</td>\n",
       "      <td>858394</td>\n",
       "      <td>0</td>\n",
       "      <td>+33.9993465</td>\n",
       "      <td>-117.3660904</td>\n",
       "      <td>MULTIPOLYGON (((-13066242.518 4029094.346, -13...</td>\n",
       "      <td>28728.512410</td>\n",
       "    </tr>\n",
       "    <tr>\n",
       "      <th>2</th>\n",
       "      <td>06</td>\n",
       "      <td>065</td>\n",
       "      <td>031501</td>\n",
       "      <td>5</td>\n",
       "      <td>060650315015</td>\n",
       "      <td>Block Group 5</td>\n",
       "      <td>G5030</td>\n",
       "      <td>S</td>\n",
       "      <td>233796</td>\n",
       "      <td>0</td>\n",
       "      <td>+33.9331513</td>\n",
       "      <td>-117.4280261</td>\n",
       "      <td>MULTIPOLYGON (((-13072432.900 4019792.884, -13...</td>\n",
       "      <td>19578.931466</td>\n",
       "    </tr>\n",
       "    <tr>\n",
       "      <th>3</th>\n",
       "      <td>06</td>\n",
       "      <td>111</td>\n",
       "      <td>007512</td>\n",
       "      <td>2</td>\n",
       "      <td>061110075122</td>\n",
       "      <td>Block Group 2</td>\n",
       "      <td>G5030</td>\n",
       "      <td>S</td>\n",
       "      <td>925075</td>\n",
       "      <td>51577</td>\n",
       "      <td>+34.2580996</td>\n",
       "      <td>-118.7381322</td>\n",
       "      <td>MULTIPOLYGON (((-13218508.644 4063782.041, -13...</td>\n",
       "      <td>23505.369679</td>\n",
       "    </tr>\n",
       "    <tr>\n",
       "      <th>4</th>\n",
       "      <td>06</td>\n",
       "      <td>037</td>\n",
       "      <td>187200</td>\n",
       "      <td>2</td>\n",
       "      <td>060371872002</td>\n",
       "      <td>Block Group 2</td>\n",
       "      <td>G5030</td>\n",
       "      <td>S</td>\n",
       "      <td>543859</td>\n",
       "      <td>8150</td>\n",
       "      <td>+34.1069009</td>\n",
       "      <td>-118.2493596</td>\n",
       "      <td>MULTIPOLYGON (((-13164313.054 4043275.918, -13...</td>\n",
       "      <td>24565.305778</td>\n",
       "    </tr>\n",
       "  </tbody>\n",
       "</table>\n",
       "</div>"
      ],
      "text/plain": [
       "  STATEFP COUNTYFP TRACTCE BLKGRPCE         GEOID       NAMELSAD  MTFCC  \\\n",
       "0      06      111  007506        5  061110075065  Block Group 5  G5030   \n",
       "1      06      065  030104        2  060650301042  Block Group 2  G5030   \n",
       "2      06      065  031501        5  060650315015  Block Group 5  G5030   \n",
       "3      06      111  007512        2  061110075122  Block Group 2  G5030   \n",
       "4      06      037  187200        2  060371872002  Block Group 2  G5030   \n",
       "\n",
       "  FUNCSTAT   ALAND  AWATER     INTPTLAT      INTPTLON  \\\n",
       "0        S  469020   15988  +34.2526098  -118.7395930   \n",
       "1        S  858394       0  +33.9993465  -117.3660904   \n",
       "2        S  233796       0  +33.9331513  -117.4280261   \n",
       "3        S  925075   51577  +34.2580996  -118.7381322   \n",
       "4        S  543859    8150  +34.1069009  -118.2493596   \n",
       "\n",
       "                                            geometry  dist_to_fire_m  \n",
       "0  MULTIPOLYGON (((-13218628.981 4063392.660, -13...    24424.649639  \n",
       "1  MULTIPOLYGON (((-13066242.518 4029094.346, -13...    28728.512410  \n",
       "2  MULTIPOLYGON (((-13072432.900 4019792.884, -13...    19578.931466  \n",
       "3  MULTIPOLYGON (((-13218508.644 4063782.041, -13...    23505.369679  \n",
       "4  MULTIPOLYGON (((-13164313.054 4043275.918, -13...    24565.305778  "
      ]
     },
     "execution_count": 9,
     "metadata": {},
     "output_type": "execute_result"
    }
   ],
   "source": [
    "ca_cbg.head()"
   ]
  },
  {
   "cell_type": "code",
   "execution_count": 11,
   "metadata": {},
   "outputs": [
    {
     "name": "stderr",
     "output_type": "stream",
     "text": [
      "c:\\Users\\noibar\\anaconda3\\envs\\geo\\lib\\site-packages\\IPython\\core\\interactiveshell.py:3457: DtypeWarning: Columns (12) have mixed types.Specify dtype option on import or set low_memory=False.\n",
      "  exec(code_obj, self.user_global_ns, self.user_ns)\n"
     ]
    },
    {
     "name": "stdout",
     "output_type": "stream",
     "text": [
      "(1877453, 13)\n",
      "(1877453, 13)\n"
     ]
    }
   ],
   "source": [
    "# read POI data \n",
    "poi1 = pd.read_csv('C:/Users/noibar/Downloads/ca_poi_nov20_now.gzip', compression='gzip')\n",
    "print(poi1.shape)\n",
    "poi2 = pd.read_csv('C:/Users/noibar/Downloads/ca_poi_pre_nov20.gzip', compression='gzip')\n",
    "print(poi2.shape)"
   ]
  },
  {
   "cell_type": "code",
   "execution_count": 13,
   "metadata": {},
   "outputs": [],
   "source": [
    "# drop duplicates based on col subsets\n",
    "cols_to_drop = [\n",
    "    'placekey', \n",
    "    'location_name', \n",
    "    'latitude', \n",
    "    'longitude'\n",
    "]"
   ]
  },
  {
   "cell_type": "code",
   "execution_count": 15,
   "metadata": {},
   "outputs": [
    {
     "name": "stdout",
     "output_type": "stream",
     "text": [
      "(3754906, 13)\n"
     ]
    }
   ],
   "source": [
    "poi = pd.concat([poi1, poi2])\n",
    "print(poi.shape)"
   ]
  },
  {
   "cell_type": "code",
   "execution_count": 16,
   "metadata": {},
   "outputs": [
    {
     "name": "stdout",
     "output_type": "stream",
     "text": [
      "(1825204, 13)\n"
     ]
    }
   ],
   "source": [
    "poi = poi.drop_duplicates(subset=cols_to_drop)\n",
    "print(poi.shape)"
   ]
  },
  {
   "cell_type": "code",
   "execution_count": 22,
   "metadata": {},
   "outputs": [
    {
     "name": "stdout",
     "output_type": "stream",
     "text": [
      "(1084735, 13)\n",
      "epsg:3857\n"
     ]
    }
   ],
   "source": [
    "# first cut filter out by bbox\n",
    "# bounds: Polygon ((-119.472754 32.528832, -114.450152 32.528832, -114.450152 35.218627, -119.472754 35.218627, -119.472754 32.528832))\n",
    "poi = poi.loc[(poi.longitude<=-114.45015)&(poi.longitude>=-119.472754)&(poi.latitude>=-32.528832)&(poi.longitude<=-35.218627)]\n",
    "print(poi.shape)\n",
    "\n",
    "# convert POI to spatial file \n",
    "geom = gpd.points_from_xy(poi.longitude, poi.latitude, crs=\"epsg:4326\")\n",
    "geo_poi = gpd.GeoDataFrame(poi, geometry=geom)\n",
    "geo_poi.to_crs('epsg:3857', inplace=True)\n",
    "print(geo_poi.crs)"
   ]
  },
  {
   "cell_type": "code",
   "execution_count": 26,
   "metadata": {},
   "outputs": [
    {
     "data": {
      "text/html": [
       "<div>\n",
       "<style scoped>\n",
       "    .dataframe tbody tr th:only-of-type {\n",
       "        vertical-align: middle;\n",
       "    }\n",
       "\n",
       "    .dataframe tbody tr th {\n",
       "        vertical-align: top;\n",
       "    }\n",
       "\n",
       "    .dataframe thead th {\n",
       "        text-align: right;\n",
       "    }\n",
       "</style>\n",
       "<table border=\"1\" class=\"dataframe\">\n",
       "  <thead>\n",
       "    <tr style=\"text-align: right;\">\n",
       "      <th></th>\n",
       "      <th>STATEFP</th>\n",
       "      <th>COUNTYFP</th>\n",
       "      <th>TRACTCE</th>\n",
       "      <th>BLKGRPCE</th>\n",
       "      <th>GEOID</th>\n",
       "      <th>NAMELSAD</th>\n",
       "      <th>MTFCC</th>\n",
       "      <th>FUNCSTAT</th>\n",
       "      <th>ALAND</th>\n",
       "      <th>AWATER</th>\n",
       "      <th>INTPTLAT</th>\n",
       "      <th>INTPTLON</th>\n",
       "      <th>geometry</th>\n",
       "      <th>dist_to_fire_m</th>\n",
       "    </tr>\n",
       "  </thead>\n",
       "  <tbody>\n",
       "    <tr>\n",
       "      <th>0</th>\n",
       "      <td>06</td>\n",
       "      <td>111</td>\n",
       "      <td>007506</td>\n",
       "      <td>5</td>\n",
       "      <td>061110075065</td>\n",
       "      <td>Block Group 5</td>\n",
       "      <td>G5030</td>\n",
       "      <td>S</td>\n",
       "      <td>469020</td>\n",
       "      <td>15988</td>\n",
       "      <td>+34.2526098</td>\n",
       "      <td>-118.7395930</td>\n",
       "      <td>MULTIPOLYGON (((-13218628.981 4063392.660, -13...</td>\n",
       "      <td>24424.649639</td>\n",
       "    </tr>\n",
       "    <tr>\n",
       "      <th>1</th>\n",
       "      <td>06</td>\n",
       "      <td>065</td>\n",
       "      <td>030104</td>\n",
       "      <td>2</td>\n",
       "      <td>060650301042</td>\n",
       "      <td>Block Group 2</td>\n",
       "      <td>G5030</td>\n",
       "      <td>S</td>\n",
       "      <td>858394</td>\n",
       "      <td>0</td>\n",
       "      <td>+33.9993465</td>\n",
       "      <td>-117.3660904</td>\n",
       "      <td>MULTIPOLYGON (((-13066242.518 4029094.346, -13...</td>\n",
       "      <td>28728.512410</td>\n",
       "    </tr>\n",
       "    <tr>\n",
       "      <th>2</th>\n",
       "      <td>06</td>\n",
       "      <td>065</td>\n",
       "      <td>031501</td>\n",
       "      <td>5</td>\n",
       "      <td>060650315015</td>\n",
       "      <td>Block Group 5</td>\n",
       "      <td>G5030</td>\n",
       "      <td>S</td>\n",
       "      <td>233796</td>\n",
       "      <td>0</td>\n",
       "      <td>+33.9331513</td>\n",
       "      <td>-117.4280261</td>\n",
       "      <td>MULTIPOLYGON (((-13072432.900 4019792.884, -13...</td>\n",
       "      <td>19578.931466</td>\n",
       "    </tr>\n",
       "    <tr>\n",
       "      <th>3</th>\n",
       "      <td>06</td>\n",
       "      <td>111</td>\n",
       "      <td>007512</td>\n",
       "      <td>2</td>\n",
       "      <td>061110075122</td>\n",
       "      <td>Block Group 2</td>\n",
       "      <td>G5030</td>\n",
       "      <td>S</td>\n",
       "      <td>925075</td>\n",
       "      <td>51577</td>\n",
       "      <td>+34.2580996</td>\n",
       "      <td>-118.7381322</td>\n",
       "      <td>MULTIPOLYGON (((-13218508.644 4063782.041, -13...</td>\n",
       "      <td>23505.369679</td>\n",
       "    </tr>\n",
       "    <tr>\n",
       "      <th>4</th>\n",
       "      <td>06</td>\n",
       "      <td>037</td>\n",
       "      <td>187200</td>\n",
       "      <td>2</td>\n",
       "      <td>060371872002</td>\n",
       "      <td>Block Group 2</td>\n",
       "      <td>G5030</td>\n",
       "      <td>S</td>\n",
       "      <td>543859</td>\n",
       "      <td>8150</td>\n",
       "      <td>+34.1069009</td>\n",
       "      <td>-118.2493596</td>\n",
       "      <td>MULTIPOLYGON (((-13164313.054 4043275.918, -13...</td>\n",
       "      <td>24565.305778</td>\n",
       "    </tr>\n",
       "  </tbody>\n",
       "</table>\n",
       "</div>"
      ],
      "text/plain": [
       "  STATEFP COUNTYFP TRACTCE BLKGRPCE         GEOID       NAMELSAD  MTFCC  \\\n",
       "0      06      111  007506        5  061110075065  Block Group 5  G5030   \n",
       "1      06      065  030104        2  060650301042  Block Group 2  G5030   \n",
       "2      06      065  031501        5  060650315015  Block Group 5  G5030   \n",
       "3      06      111  007512        2  061110075122  Block Group 2  G5030   \n",
       "4      06      037  187200        2  060371872002  Block Group 2  G5030   \n",
       "\n",
       "  FUNCSTAT   ALAND  AWATER     INTPTLAT      INTPTLON  \\\n",
       "0        S  469020   15988  +34.2526098  -118.7395930   \n",
       "1        S  858394       0  +33.9993465  -117.3660904   \n",
       "2        S  233796       0  +33.9331513  -117.4280261   \n",
       "3        S  925075   51577  +34.2580996  -118.7381322   \n",
       "4        S  543859    8150  +34.1069009  -118.2493596   \n",
       "\n",
       "                                            geometry  dist_to_fire_m  \n",
       "0  MULTIPOLYGON (((-13218628.981 4063392.660, -13...    24424.649639  \n",
       "1  MULTIPOLYGON (((-13066242.518 4029094.346, -13...    28728.512410  \n",
       "2  MULTIPOLYGON (((-13072432.900 4019792.884, -13...    19578.931466  \n",
       "3  MULTIPOLYGON (((-13218508.644 4063782.041, -13...    23505.369679  \n",
       "4  MULTIPOLYGON (((-13164313.054 4043275.918, -13...    24565.305778  "
      ]
     },
     "execution_count": 26,
     "metadata": {},
     "output_type": "execute_result"
    }
   ],
   "source": [
    "ca_cbg.head()"
   ]
  },
  {
   "cell_type": "code",
   "execution_count": 31,
   "metadata": {},
   "outputs": [
    {
     "name": "stdout",
     "output_type": "stream",
     "text": [
      "(645103, 28)\n"
     ]
    }
   ],
   "source": [
    "# first keep only POIs within CBGs \n",
    "clipped_poi = gpd.sjoin(ca_cbg, geo_poi, predicate='contains', how='left')\n",
    "print(clipped_poi.shape)"
   ]
  },
  {
   "cell_type": "code",
   "execution_count": 32,
   "metadata": {},
   "outputs": [
    {
     "data": {
      "text/html": [
       "<div>\n",
       "<style scoped>\n",
       "    .dataframe tbody tr th:only-of-type {\n",
       "        vertical-align: middle;\n",
       "    }\n",
       "\n",
       "    .dataframe tbody tr th {\n",
       "        vertical-align: top;\n",
       "    }\n",
       "\n",
       "    .dataframe thead th {\n",
       "        text-align: right;\n",
       "    }\n",
       "</style>\n",
       "<table border=\"1\" class=\"dataframe\">\n",
       "  <thead>\n",
       "    <tr style=\"text-align: right;\">\n",
       "      <th></th>\n",
       "      <th>STATEFP</th>\n",
       "      <th>COUNTYFP</th>\n",
       "      <th>TRACTCE</th>\n",
       "      <th>BLKGRPCE</th>\n",
       "      <th>GEOID</th>\n",
       "      <th>NAMELSAD</th>\n",
       "      <th>MTFCC</th>\n",
       "      <th>FUNCSTAT</th>\n",
       "      <th>ALAND</th>\n",
       "      <th>AWATER</th>\n",
       "      <th>...</th>\n",
       "      <th>sub_category</th>\n",
       "      <th>naics_code</th>\n",
       "      <th>latitude</th>\n",
       "      <th>longitude</th>\n",
       "      <th>city</th>\n",
       "      <th>region</th>\n",
       "      <th>postal_code</th>\n",
       "      <th>iso_country_code</th>\n",
       "      <th>opened_on</th>\n",
       "      <th>closed_on</th>\n",
       "    </tr>\n",
       "  </thead>\n",
       "  <tbody>\n",
       "    <tr>\n",
       "      <th>0</th>\n",
       "      <td>06</td>\n",
       "      <td>111</td>\n",
       "      <td>007506</td>\n",
       "      <td>5</td>\n",
       "      <td>061110075065</td>\n",
       "      <td>Block Group 5</td>\n",
       "      <td>G5030</td>\n",
       "      <td>S</td>\n",
       "      <td>469020</td>\n",
       "      <td>15988</td>\n",
       "      <td>...</td>\n",
       "      <td>NaN</td>\n",
       "      <td>NaN</td>\n",
       "      <td>NaN</td>\n",
       "      <td>NaN</td>\n",
       "      <td>NaN</td>\n",
       "      <td>NaN</td>\n",
       "      <td>NaN</td>\n",
       "      <td>NaN</td>\n",
       "      <td>NaN</td>\n",
       "      <td>NaN</td>\n",
       "    </tr>\n",
       "    <tr>\n",
       "      <th>1</th>\n",
       "      <td>06</td>\n",
       "      <td>065</td>\n",
       "      <td>030104</td>\n",
       "      <td>2</td>\n",
       "      <td>060650301042</td>\n",
       "      <td>Block Group 2</td>\n",
       "      <td>G5030</td>\n",
       "      <td>S</td>\n",
       "      <td>858394</td>\n",
       "      <td>0</td>\n",
       "      <td>...</td>\n",
       "      <td>NaN</td>\n",
       "      <td>3399.0</td>\n",
       "      <td>34.001717</td>\n",
       "      <td>-117.371553</td>\n",
       "      <td>Riverside</td>\n",
       "      <td>CA</td>\n",
       "      <td>92501.0</td>\n",
       "      <td>US</td>\n",
       "      <td>NaN</td>\n",
       "      <td>NaN</td>\n",
       "    </tr>\n",
       "    <tr>\n",
       "      <th>1</th>\n",
       "      <td>06</td>\n",
       "      <td>065</td>\n",
       "      <td>030104</td>\n",
       "      <td>2</td>\n",
       "      <td>060650301042</td>\n",
       "      <td>Block Group 2</td>\n",
       "      <td>G5030</td>\n",
       "      <td>S</td>\n",
       "      <td>858394</td>\n",
       "      <td>0</td>\n",
       "      <td>...</td>\n",
       "      <td>Motor Vehicle Towing</td>\n",
       "      <td>488410.0</td>\n",
       "      <td>33.996827</td>\n",
       "      <td>-117.363904</td>\n",
       "      <td>Riverside</td>\n",
       "      <td>CA</td>\n",
       "      <td>92501.0</td>\n",
       "      <td>US</td>\n",
       "      <td>NaN</td>\n",
       "      <td>NaN</td>\n",
       "    </tr>\n",
       "    <tr>\n",
       "      <th>1</th>\n",
       "      <td>06</td>\n",
       "      <td>065</td>\n",
       "      <td>030104</td>\n",
       "      <td>2</td>\n",
       "      <td>060650301042</td>\n",
       "      <td>Block Group 2</td>\n",
       "      <td>G5030</td>\n",
       "      <td>S</td>\n",
       "      <td>858394</td>\n",
       "      <td>0</td>\n",
       "      <td>...</td>\n",
       "      <td>NaN</td>\n",
       "      <td>3399.0</td>\n",
       "      <td>34.000437</td>\n",
       "      <td>-117.370594</td>\n",
       "      <td>Riverside</td>\n",
       "      <td>CA</td>\n",
       "      <td>92501.0</td>\n",
       "      <td>US</td>\n",
       "      <td>NaN</td>\n",
       "      <td>NaN</td>\n",
       "    </tr>\n",
       "    <tr>\n",
       "      <th>1</th>\n",
       "      <td>06</td>\n",
       "      <td>065</td>\n",
       "      <td>030104</td>\n",
       "      <td>2</td>\n",
       "      <td>060650301042</td>\n",
       "      <td>Block Group 2</td>\n",
       "      <td>G5030</td>\n",
       "      <td>S</td>\n",
       "      <td>858394</td>\n",
       "      <td>0</td>\n",
       "      <td>...</td>\n",
       "      <td>Offices of Physicians (except Mental Health Sp...</td>\n",
       "      <td>621111.0</td>\n",
       "      <td>34.000850</td>\n",
       "      <td>-117.371483</td>\n",
       "      <td>Riverside</td>\n",
       "      <td>CA</td>\n",
       "      <td>92501.0</td>\n",
       "      <td>US</td>\n",
       "      <td>NaN</td>\n",
       "      <td>NaN</td>\n",
       "    </tr>\n",
       "  </tbody>\n",
       "</table>\n",
       "<p>5 rows × 28 columns</p>\n",
       "</div>"
      ],
      "text/plain": [
       "  STATEFP COUNTYFP TRACTCE BLKGRPCE         GEOID       NAMELSAD  MTFCC  \\\n",
       "0      06      111  007506        5  061110075065  Block Group 5  G5030   \n",
       "1      06      065  030104        2  060650301042  Block Group 2  G5030   \n",
       "1      06      065  030104        2  060650301042  Block Group 2  G5030   \n",
       "1      06      065  030104        2  060650301042  Block Group 2  G5030   \n",
       "1      06      065  030104        2  060650301042  Block Group 2  G5030   \n",
       "\n",
       "  FUNCSTAT   ALAND  AWATER  ...  \\\n",
       "0        S  469020   15988  ...   \n",
       "1        S  858394       0  ...   \n",
       "1        S  858394       0  ...   \n",
       "1        S  858394       0  ...   \n",
       "1        S  858394       0  ...   \n",
       "\n",
       "                                        sub_category naics_code   latitude  \\\n",
       "0                                                NaN        NaN        NaN   \n",
       "1                                                NaN     3399.0  34.001717   \n",
       "1                               Motor Vehicle Towing   488410.0  33.996827   \n",
       "1                                                NaN     3399.0  34.000437   \n",
       "1  Offices of Physicians (except Mental Health Sp...   621111.0  34.000850   \n",
       "\n",
       "    longitude       city region postal_code iso_country_code opened_on  \\\n",
       "0         NaN        NaN    NaN         NaN              NaN       NaN   \n",
       "1 -117.371553  Riverside     CA     92501.0               US       NaN   \n",
       "1 -117.363904  Riverside     CA     92501.0               US       NaN   \n",
       "1 -117.370594  Riverside     CA     92501.0               US       NaN   \n",
       "1 -117.371483  Riverside     CA     92501.0               US       NaN   \n",
       "\n",
       "   closed_on  \n",
       "0        NaN  \n",
       "1        NaN  \n",
       "1        NaN  \n",
       "1        NaN  \n",
       "1        NaN  \n",
       "\n",
       "[5 rows x 28 columns]"
      ]
     },
     "execution_count": 32,
     "metadata": {},
     "output_type": "execute_result"
    }
   ],
   "source": [
    "clipped_poi.head()"
   ]
  },
  {
   "cell_type": "code",
   "execution_count": 33,
   "metadata": {},
   "outputs": [
    {
     "data": {
      "text/plain": [
       "Index(['STATEFP', 'COUNTYFP', 'TRACTCE', 'BLKGRPCE', 'GEOID', 'NAMELSAD',\n",
       "       'MTFCC', 'FUNCSTAT', 'ALAND', 'AWATER', 'INTPTLAT', 'INTPTLON',\n",
       "       'geometry', 'dist_to_fire_m', 'index_right', 'placekey',\n",
       "       'location_name', 'top_category', 'sub_category', 'naics_code',\n",
       "       'latitude', 'longitude', 'city', 'region', 'postal_code',\n",
       "       'iso_country_code', 'opened_on', 'closed_on'],\n",
       "      dtype='object')"
      ]
     },
     "execution_count": 33,
     "metadata": {},
     "output_type": "execute_result"
    }
   ],
   "source": [
    "clipped_poi.columns"
   ]
  },
  {
   "cell_type": "code",
   "execution_count": 34,
   "metadata": {},
   "outputs": [
    {
     "data": {
      "text/html": [
       "<div>\n",
       "<style scoped>\n",
       "    .dataframe tbody tr th:only-of-type {\n",
       "        vertical-align: middle;\n",
       "    }\n",
       "\n",
       "    .dataframe tbody tr th {\n",
       "        vertical-align: top;\n",
       "    }\n",
       "\n",
       "    .dataframe thead th {\n",
       "        text-align: right;\n",
       "    }\n",
       "</style>\n",
       "<table border=\"1\" class=\"dataframe\">\n",
       "  <thead>\n",
       "    <tr style=\"text-align: right;\">\n",
       "      <th></th>\n",
       "      <th>GEOID</th>\n",
       "      <th>placekey</th>\n",
       "    </tr>\n",
       "  </thead>\n",
       "  <tbody>\n",
       "    <tr>\n",
       "      <th>0</th>\n",
       "      <td>060290033051</td>\n",
       "      <td>51</td>\n",
       "    </tr>\n",
       "    <tr>\n",
       "      <th>1</th>\n",
       "      <td>060290033052</td>\n",
       "      <td>81</td>\n",
       "    </tr>\n",
       "    <tr>\n",
       "      <th>2</th>\n",
       "      <td>060290033053</td>\n",
       "      <td>35</td>\n",
       "    </tr>\n",
       "    <tr>\n",
       "      <th>3</th>\n",
       "      <td>060290033061</td>\n",
       "      <td>185</td>\n",
       "    </tr>\n",
       "    <tr>\n",
       "      <th>4</th>\n",
       "      <td>060290055061</td>\n",
       "      <td>62</td>\n",
       "    </tr>\n",
       "  </tbody>\n",
       "</table>\n",
       "</div>"
      ],
      "text/plain": [
       "          GEOID  placekey\n",
       "0  060290033051        51\n",
       "1  060290033052        81\n",
       "2  060290033053        35\n",
       "3  060290033061       185\n",
       "4  060290055061        62"
      ]
     },
     "execution_count": 34,
     "metadata": {},
     "output_type": "execute_result"
    }
   ],
   "source": [
    "gg = clipped_poi.groupby('GEOID')['placekey'].size().reset_index()\n",
    "\n",
    "gg.head()"
   ]
  },
  {
   "cell_type": "code",
   "execution_count": 37,
   "metadata": {},
   "outputs": [],
   "source": [
    "gg.columns = ['GEOID', 'poi_cnt']"
   ]
  },
  {
   "cell_type": "code",
   "execution_count": 38,
   "metadata": {},
   "outputs": [
    {
     "name": "stdout",
     "output_type": "stream",
     "text": [
      "(7822, 15)\n"
     ]
    },
    {
     "data": {
      "text/html": [
       "<div>\n",
       "<style scoped>\n",
       "    .dataframe tbody tr th:only-of-type {\n",
       "        vertical-align: middle;\n",
       "    }\n",
       "\n",
       "    .dataframe tbody tr th {\n",
       "        vertical-align: top;\n",
       "    }\n",
       "\n",
       "    .dataframe thead th {\n",
       "        text-align: right;\n",
       "    }\n",
       "</style>\n",
       "<table border=\"1\" class=\"dataframe\">\n",
       "  <thead>\n",
       "    <tr style=\"text-align: right;\">\n",
       "      <th></th>\n",
       "      <th>STATEFP</th>\n",
       "      <th>COUNTYFP</th>\n",
       "      <th>TRACTCE</th>\n",
       "      <th>BLKGRPCE</th>\n",
       "      <th>GEOID</th>\n",
       "      <th>NAMELSAD</th>\n",
       "      <th>MTFCC</th>\n",
       "      <th>FUNCSTAT</th>\n",
       "      <th>ALAND</th>\n",
       "      <th>AWATER</th>\n",
       "      <th>INTPTLAT</th>\n",
       "      <th>INTPTLON</th>\n",
       "      <th>geometry</th>\n",
       "      <th>dist_to_fire_m</th>\n",
       "      <th>poi_cnt</th>\n",
       "    </tr>\n",
       "  </thead>\n",
       "  <tbody>\n",
       "    <tr>\n",
       "      <th>0</th>\n",
       "      <td>06</td>\n",
       "      <td>111</td>\n",
       "      <td>007506</td>\n",
       "      <td>5</td>\n",
       "      <td>061110075065</td>\n",
       "      <td>Block Group 5</td>\n",
       "      <td>G5030</td>\n",
       "      <td>S</td>\n",
       "      <td>469020</td>\n",
       "      <td>15988</td>\n",
       "      <td>+34.2526098</td>\n",
       "      <td>-118.7395930</td>\n",
       "      <td>MULTIPOLYGON (((-13218628.981 4063392.660, -13...</td>\n",
       "      <td>24424.649639</td>\n",
       "      <td>1</td>\n",
       "    </tr>\n",
       "    <tr>\n",
       "      <th>1</th>\n",
       "      <td>06</td>\n",
       "      <td>065</td>\n",
       "      <td>030104</td>\n",
       "      <td>2</td>\n",
       "      <td>060650301042</td>\n",
       "      <td>Block Group 2</td>\n",
       "      <td>G5030</td>\n",
       "      <td>S</td>\n",
       "      <td>858394</td>\n",
       "      <td>0</td>\n",
       "      <td>+33.9993465</td>\n",
       "      <td>-117.3660904</td>\n",
       "      <td>MULTIPOLYGON (((-13066242.518 4029094.346, -13...</td>\n",
       "      <td>28728.512410</td>\n",
       "      <td>95</td>\n",
       "    </tr>\n",
       "    <tr>\n",
       "      <th>2</th>\n",
       "      <td>06</td>\n",
       "      <td>065</td>\n",
       "      <td>031501</td>\n",
       "      <td>5</td>\n",
       "      <td>060650315015</td>\n",
       "      <td>Block Group 5</td>\n",
       "      <td>G5030</td>\n",
       "      <td>S</td>\n",
       "      <td>233796</td>\n",
       "      <td>0</td>\n",
       "      <td>+33.9331513</td>\n",
       "      <td>-117.4280261</td>\n",
       "      <td>MULTIPOLYGON (((-13072432.900 4019792.884, -13...</td>\n",
       "      <td>19578.931466</td>\n",
       "      <td>12</td>\n",
       "    </tr>\n",
       "    <tr>\n",
       "      <th>3</th>\n",
       "      <td>06</td>\n",
       "      <td>111</td>\n",
       "      <td>007512</td>\n",
       "      <td>2</td>\n",
       "      <td>061110075122</td>\n",
       "      <td>Block Group 2</td>\n",
       "      <td>G5030</td>\n",
       "      <td>S</td>\n",
       "      <td>925075</td>\n",
       "      <td>51577</td>\n",
       "      <td>+34.2580996</td>\n",
       "      <td>-118.7381322</td>\n",
       "      <td>MULTIPOLYGON (((-13218508.644 4063782.041, -13...</td>\n",
       "      <td>23505.369679</td>\n",
       "      <td>9</td>\n",
       "    </tr>\n",
       "    <tr>\n",
       "      <th>4</th>\n",
       "      <td>06</td>\n",
       "      <td>037</td>\n",
       "      <td>187200</td>\n",
       "      <td>2</td>\n",
       "      <td>060371872002</td>\n",
       "      <td>Block Group 2</td>\n",
       "      <td>G5030</td>\n",
       "      <td>S</td>\n",
       "      <td>543859</td>\n",
       "      <td>8150</td>\n",
       "      <td>+34.1069009</td>\n",
       "      <td>-118.2493596</td>\n",
       "      <td>MULTIPOLYGON (((-13164313.054 4043275.918, -13...</td>\n",
       "      <td>24565.305778</td>\n",
       "      <td>68</td>\n",
       "    </tr>\n",
       "  </tbody>\n",
       "</table>\n",
       "</div>"
      ],
      "text/plain": [
       "  STATEFP COUNTYFP TRACTCE BLKGRPCE         GEOID       NAMELSAD  MTFCC  \\\n",
       "0      06      111  007506        5  061110075065  Block Group 5  G5030   \n",
       "1      06      065  030104        2  060650301042  Block Group 2  G5030   \n",
       "2      06      065  031501        5  060650315015  Block Group 5  G5030   \n",
       "3      06      111  007512        2  061110075122  Block Group 2  G5030   \n",
       "4      06      037  187200        2  060371872002  Block Group 2  G5030   \n",
       "\n",
       "  FUNCSTAT   ALAND  AWATER     INTPTLAT      INTPTLON  \\\n",
       "0        S  469020   15988  +34.2526098  -118.7395930   \n",
       "1        S  858394       0  +33.9993465  -117.3660904   \n",
       "2        S  233796       0  +33.9331513  -117.4280261   \n",
       "3        S  925075   51577  +34.2580996  -118.7381322   \n",
       "4        S  543859    8150  +34.1069009  -118.2493596   \n",
       "\n",
       "                                            geometry  dist_to_fire_m  poi_cnt  \n",
       "0  MULTIPOLYGON (((-13218628.981 4063392.660, -13...    24424.649639        1  \n",
       "1  MULTIPOLYGON (((-13066242.518 4029094.346, -13...    28728.512410       95  \n",
       "2  MULTIPOLYGON (((-13072432.900 4019792.884, -13...    19578.931466       12  \n",
       "3  MULTIPOLYGON (((-13218508.644 4063782.041, -13...    23505.369679        9  \n",
       "4  MULTIPOLYGON (((-13164313.054 4043275.918, -13...    24565.305778       68  "
      ]
     },
     "execution_count": 38,
     "metadata": {},
     "output_type": "execute_result"
    }
   ],
   "source": [
    "# join the gg back to CBGs\n",
    "ca_cbg_poi = pd.merge(ca_cbg, gg, how='left')\n",
    "print(ca_cbg_poi.shape)\n",
    "ca_cbg_poi.head()"
   ]
  },
  {
   "cell_type": "code",
   "execution_count": 40,
   "metadata": {},
   "outputs": [
    {
     "data": {
      "text/plain": [
       "<AxesSubplot:ylabel='Frequency'>"
      ]
     },
     "execution_count": 40,
     "metadata": {},
     "output_type": "execute_result"
    },
    {
     "data": {
      "image/png": "[encoded data removed]",
      "text/plain": [
       "<Figure size 432x288 with 1 Axes>"
      ]
     },
     "metadata": {
      "needs_background": "light"
     },
     "output_type": "display_data"
    }
   ],
   "source": [
    "ca_cbg_poi.poi_cnt.plot(kind='hist')"
   ]
  },
  {
   "cell_type": "code",
   "execution_count": null,
   "metadata": {},
   "outputs": [],
   "source": []
  }
 ],
 "metadata": {
  "kernelspec": {
   "display_name": "Python 3.10.0 ('geo')",
   "language": "python",
   "name": "python3"
  },
  "language_info": {
   "codemirror_mode": {
    "name": "ipython",
    "version": 3
   },
   "file_extension": ".py",
   "mimetype": "text/x-python",
   "name": "python",
   "nbconvert_exporter": "python",
   "pygments_lexer": "ipython3",
   "version": "3.10.0"
  },
  "orig_nbformat": 4,
  "vscode": {
   "interpreter": {
    "hash": "ca749a29ad625deb82bd2e8fb958508cae07226c93fb666e93e71a4d0761e761"
   }
  }
 },
 "nbformat": 4,
 "nbformat_minor": 2
}
